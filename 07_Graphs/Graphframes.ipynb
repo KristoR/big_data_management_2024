{
 "cells": [
  {
   "cell_type": "code",
   "execution_count": null,
   "metadata": {},
   "outputs": [],
   "source": [
    "import pyspark\n",
    "from delta import *\n",
    "\n",
    "# Prepare the Spark builder\n",
    "builder = pyspark.sql.SparkSession.builder.appName(\"Graphs_Practice\") \\\n",
    "    .config(\"spark.sql.extensions\", \"io.delta.sql.DeltaSparkSessionExtension\") \\\n",
    "    .config(\"spark.sql.catalog.spark_catalog\", \"org.apache.spark.sql.delta.catalog.DeltaCatalog\")\n",
    "\n",
    "spark = configure_spark_with_delta_pip(builder,extra_packages=[\"graphframes:graphframes:0.8.3-spark3.5-s_2.12\"]).getOrCreate()\n",
    "spark.conf.set(\"spark.sql.shuffle.partitions\", spark._sc.defaultParallelism)\n",
    "\n",
    "#spark.conf.set(\"spark.sql.repl.eagerEval.enabled\",True) # OK for exploration, not great for performance\n",
    "#spark.conf.set(\"spark.sql.repl.eagerEval.truncate\", 500)\n",
    "\n",
    "import graphframes as gf"
   ]
  },
  {
   "cell_type": "markdown",
   "metadata": {
    "application/vnd.databricks.v1+cell": {
     "cellMetadata": {},
     "inputWidgets": {},
     "nuid": "92b18f53-5683-43db-bf6e-2080eebf8afc",
     "showTitle": false,
     "title": ""
    }
   },
   "source": [
    "### GraphFrames\n",
    "\n",
    "Agenda:\n",
    "* Creating vertices and edges\n",
    "* Viewing properties of a GraphFrame\n",
    "* Graph filtering\n",
    "* Motifs - finding patterns\n",
    "* Graph Algorithms"
   ]
  },
  {
   "cell_type": "code",
   "execution_count": null,
   "metadata": {
    "application/vnd.databricks.v1+cell": {
     "cellMetadata": {},
     "inputWidgets": {},
     "nuid": "0627537c-550f-4742-848c-8c1b41542d4e",
     "showTitle": false,
     "title": ""
    }
   },
   "outputs": [],
   "source": [
    "help(gf)\n",
    "# GraphFrame = 2 dataframes: vertices and edges"
   ]
  },
  {
   "cell_type": "code",
   "execution_count": null,
   "metadata": {
    "application/vnd.databricks.v1+cell": {
     "cellMetadata": {},
     "inputWidgets": {},
     "nuid": "1b44e89e-57ea-4cda-9dde-935a1d203fbd",
     "showTitle": false,
     "title": ""
    }
   },
   "outputs": [],
   "source": [
    "# Let's load in some sample data\n",
    "fraud_df = spark.read.csv(\"paysim.csv\", header=True, inferSchema=True)\n",
    "display(fraud_df)"
   ]
  },
  {
   "cell_type": "markdown",
   "metadata": {
    "application/vnd.databricks.v1+cell": {
     "cellMetadata": {},
     "inputWidgets": {},
     "nuid": "d93ade76-c872-411b-b31d-8837610bcac4",
     "showTitle": false,
     "title": ""
    }
   },
   "source": [
    "#### Vertices\n",
    "\n",
    "* Needs to contain **id** column"
   ]
  },
  {
   "cell_type": "code",
   "execution_count": null,
   "metadata": {
    "application/vnd.databricks.v1+cell": {
     "cellMetadata": {},
     "inputWidgets": {},
     "nuid": "2e400236-cfae-49b6-a7f8-55b58070ff2a",
     "showTitle": false,
     "title": ""
    }
   },
   "outputs": [],
   "source": [
    "import pyspark.sql.functions as F\n",
    "\n",
    "fraud_vertices = (fraud_df\n",
    "                  .select(F.col(\"nameOrig\").alias(\"id\"))\n",
    "                  .union(fraud_df\n",
    "                        .select(F.col(\"nameDest\").alias(\"id\")))\n",
    "                  .distinct()\n",
    ")\n",
    "\n",
    "display(fraud_vertices)"
   ]
  },
  {
   "cell_type": "markdown",
   "metadata": {
    "application/vnd.databricks.v1+cell": {
     "cellMetadata": {},
     "inputWidgets": {},
     "nuid": "ab38ec76-d5d5-4a4f-b49a-39c6fceea066",
     "showTitle": false,
     "title": ""
    }
   },
   "source": [
    "#### Edges\n",
    "\n",
    "* Needs to contain **src** and **dst** columns"
   ]
  },
  {
   "cell_type": "code",
   "execution_count": null,
   "metadata": {
    "application/vnd.databricks.v1+cell": {
     "cellMetadata": {},
     "inputWidgets": {},
     "nuid": "3845e9a6-68ee-4247-a2a0-695c2625e7bc",
     "showTitle": false,
     "title": ""
    }
   },
   "outputs": [],
   "source": [
    "fraud_edges = (fraud_df\n",
    "               .withColumnRenamed(\"nameOrig\",\"src\")\n",
    "               .withColumnRenamed(\"nameDest\",\"dst\")\n",
    ")\n",
    "\n",
    "display(fraud_edges)"
   ]
  },
  {
   "cell_type": "code",
   "execution_count": null,
   "metadata": {
    "application/vnd.databricks.v1+cell": {
     "cellMetadata": {},
     "inputWidgets": {},
     "nuid": "dedad5cc-a634-42d4-bac8-e24c2853ffa9",
     "showTitle": false,
     "title": ""
    }
   },
   "outputs": [],
   "source": [
    "# Let's create our first GraphFrame\n",
    "\n",
    "fraud_graph = gf.GraphFrame(fraud_vertices, fraud_edges)\n",
    "\n",
    "fraud_vertices.cache()\n",
    "fraud_edges.cache()\n",
    "\n",
    "display(fraud_graph)"
   ]
  },
  {
   "cell_type": "markdown",
   "metadata": {
    "application/vnd.databricks.v1+cell": {
     "cellMetadata": {},
     "inputWidgets": {},
     "nuid": "5db7212f-6ad6-47b2-8805-f1be6d22a706",
     "showTitle": false,
     "title": ""
    }
   },
   "source": [
    "#### Viewing properties of a GraphFrame"
   ]
  },
  {
   "cell_type": "code",
   "execution_count": null,
   "metadata": {
    "application/vnd.databricks.v1+cell": {
     "cellMetadata": {},
     "inputWidgets": {},
     "nuid": "b7376d67-2643-4382-9a4b-91f39b94014a",
     "showTitle": false,
     "title": ""
    }
   },
   "outputs": [],
   "source": [
    "# All of these return a Spark DataFrame\n",
    "\n",
    "display(fraud_graph.vertices) # same as our created dataframe\n",
    "# display(fraud_graph.edges) # same as our created edges\n",
    "# display(fraud_graph.degrees) # total edges connected to a vertice\n",
    "# display(fraud_graph.inDegrees) # incoming edges\n",
    "# display(fraud_graph.outDegrees) # outgoing edges\n",
    "# display(fraud_graph.triplets) # source / edge / destination combined"
   ]
  },
  {
   "cell_type": "markdown",
   "metadata": {
    "application/vnd.databricks.v1+cell": {
     "cellMetadata": {},
     "inputWidgets": {},
     "nuid": "acb9f1ff-a64d-4dab-9835-bb97e1e5323c",
     "showTitle": false,
     "title": ""
    }
   },
   "source": [
    "### Graph filtering"
   ]
  },
  {
   "cell_type": "code",
   "execution_count": null,
   "metadata": {
    "application/vnd.databricks.v1+cell": {
     "cellMetadata": {},
     "inputWidgets": {},
     "nuid": "333e7ade-e162-45b1-88f1-1b9df0b0a4bd",
     "showTitle": false,
     "title": ""
    }
   },
   "outputs": [],
   "source": [
    "# filtering vertices\n",
    "fraud_graph_filtered_v = fraud_graph.filterVertices(\"id == 'C1420196421'\")\n",
    "display(fraud_graph_filtered_v.vertices) # only this vertex\n",
    "#display(fraud_graph_filtered_v.edges) # no edges, because just having this vertex does not \"contain\" any edge\n",
    "\n",
    "# fraud_graph_filtered_v = fraud_graph.filterVertices(\"id == 'C1420196421' OR id == 'C972765878'\") # now we have two connected vertices\n",
    "# display(fraud_graph_filtered_v.vertices)\n",
    "# display(fraud_graph_filtered_v.edges) "
   ]
  },
  {
   "cell_type": "code",
   "execution_count": null,
   "metadata": {
    "application/vnd.databricks.v1+cell": {
     "cellMetadata": {},
     "inputWidgets": {},
     "nuid": "cabd6427-d68e-42b5-91ce-0800399921a9",
     "showTitle": false,
     "title": ""
    }
   },
   "outputs": [],
   "source": [
    "# filtering edges\n",
    "fraud_graph_filtered_e = fraud_graph.filterEdges(\"isFraud == 1\")\n",
    "display(fraud_graph_filtered_e.vertices)\n",
    "# display(fraud_graph_filtered_e.edges)"
   ]
  },
  {
   "cell_type": "code",
   "execution_count": null,
   "metadata": {
    "application/vnd.databricks.v1+cell": {
     "cellMetadata": {},
     "inputWidgets": {},
     "nuid": "5eceada0-9da8-424b-ad24-684f2813e0fb",
     "showTitle": false,
     "title": ""
    }
   },
   "outputs": [],
   "source": [
    "# note that we still have all the vertices, even if they are not on an edge with \"isFraud\"\n",
    "print(f\"\"\"\n",
    "Count of edges: {fraud_graph_filtered_e.edges.count()}\n",
    "Count of vertices: {fraud_graph_filtered_e.vertices.count()}\n",
    "\"\"\")\n",
    "      \n",
    "print(f\"Original fraud edge count: {fraud_edges.filter('isFraud == 1').count()}\")\n",
    "\n",
    "# If you want to remove orphaned vertices, combine it with dropIsolatedVertices()\n",
    "\n",
    "# fraud_graph_filtered_e_clean = (fraud_graph\n",
    "#                                 .filterEdges(\"isFraud == 1\")\n",
    "#                                 .dropIsolatedVertices()\n",
    "#                                )\n",
    "# print(f\"\"\"\n",
    "# Count of edges: {fraud_graph_filtered_e_clean.edges.count()}\n",
    "# Count of vertices: {fraud_graph_filtered_e_clean.vertices.count()}\n",
    "# \"\"\")\n",
    "  "
   ]
  },
  {
   "cell_type": "markdown",
   "metadata": {
    "application/vnd.databricks.v1+cell": {
     "cellMetadata": {},
     "inputWidgets": {},
     "nuid": "cfce83e9-7cc5-49d1-afbd-36922096c91e",
     "showTitle": false,
     "title": ""
    }
   },
   "source": [
    "### Motifs\n",
    "\n",
    "(vertice)-[edge]->(vertice)"
   ]
  },
  {
   "cell_type": "code",
   "execution_count": null,
   "metadata": {
    "application/vnd.databricks.v1+cell": {
     "cellMetadata": {},
     "inputWidgets": {},
     "nuid": "9c373b49-d671-4f14-a6f0-870afdc9b12d",
     "showTitle": false,
     "title": ""
    }
   },
   "outputs": [],
   "source": [
    "# The naming of vertice/edge - used for mapping to a specific identity (note that b is definitely b in the example below, but c may or may not be same as a)\n",
    "# Semicolon for bundling multiple patterns\n",
    "# If we want to apply some filters, we should apply them on the resulting dataframe (eg isFraud below)\n",
    "\n",
    "money_launderers_df = (fraud_graph\n",
    "                       .find(\"(a)-[e1]->(b); (b)-[e2]->(c)\")\n",
    "                       .filter((\"e1.isFraud == 1 & e2.isFraud == 0\"))\n",
    "                      )\n",
    "\n",
    "display(money_launderers_df)"
   ]
  },
  {
   "cell_type": "code",
   "execution_count": null,
   "metadata": {
    "application/vnd.databricks.v1+cell": {
     "cellMetadata": {},
     "inputWidgets": {},
     "nuid": "7a9c323b-334b-4966-9feb-88da3f88be5e",
     "showTitle": false,
     "title": ""
    }
   },
   "outputs": [],
   "source": [
    "# We can have empty brackets - then this entity is left out of the resulting dataframe\n",
    "\n",
    "outgoing_edges_df = (fraud_graph\n",
    "                       .find(\"(a)-[edge]->()\")\n",
    "                      )\n",
    "\n",
    "display(outgoing_edges_df)"
   ]
  },
  {
   "cell_type": "markdown",
   "metadata": {
    "application/vnd.databricks.v1+cell": {
     "cellMetadata": {},
     "inputWidgets": {},
     "nuid": "f4a759f8-b3fa-485e-af1e-2dc605ad1911",
     "showTitle": false,
     "title": ""
    }
   },
   "source": [
    "## Graph Algorithms"
   ]
  },
  {
   "cell_type": "markdown",
   "metadata": {
    "application/vnd.databricks.v1+cell": {
     "cellMetadata": {},
     "inputWidgets": {},
     "nuid": "38117b42-18e3-4eef-b978-9a190d32cd8a",
     "showTitle": false,
     "title": ""
    }
   },
   "source": [
    "### PageRank"
   ]
  },
  {
   "cell_type": "code",
   "execution_count": null,
   "metadata": {
    "application/vnd.databricks.v1+cell": {
     "cellMetadata": {},
     "inputWidgets": {},
     "nuid": "7e260f9e-024e-48cb-a21b-4a191726d007",
     "showTitle": false,
     "title": ""
    }
   },
   "outputs": [],
   "source": [
    "# Let's load in a smaller example graph \n",
    "\n",
    "from graphframes.examples import Graphs\n",
    "g = Graphs(spark).friends()\n",
    "display(g.vertices)\n",
    "display(g.edges)\n",
    "display(g.triplets)"
   ]
  },
  {
   "cell_type": "code",
   "execution_count": null,
   "metadata": {
    "application/vnd.databricks.v1+cell": {
     "cellMetadata": {},
     "inputWidgets": {},
     "nuid": "93be3b72-3bfe-417e-a00a-879ec17fbbd9",
     "showTitle": false,
     "title": ""
    }
   },
   "outputs": [],
   "source": [
    "g_pagerank = g.pageRank(resetProbability=0.15, maxIter=10)\n",
    "display(g_pagerank.vertices)\n",
    "display(g_pagerank.edges)"
   ]
  },
  {
   "cell_type": "markdown",
   "metadata": {
    "application/vnd.databricks.v1+cell": {
     "cellMetadata": {},
     "inputWidgets": {},
     "nuid": "51912292-ba2e-4604-aa76-7736bee4d79a",
     "showTitle": false,
     "title": ""
    }
   },
   "source": [
    "### Triangle count (3-clique)"
   ]
  },
  {
   "cell_type": "code",
   "execution_count": null,
   "metadata": {
    "application/vnd.databricks.v1+cell": {
     "cellMetadata": {},
     "inputWidgets": {},
     "nuid": "5de5296f-15d4-4d44-8d55-52b5191e08e7",
     "showTitle": false,
     "title": ""
    }
   },
   "outputs": [],
   "source": [
    "g_trianglecount = g.triangleCount()\n",
    "display(g_trianglecount)"
   ]
  },
  {
   "cell_type": "code",
   "execution_count": null,
   "metadata": {
    "application/vnd.databricks.v1+cell": {
     "cellMetadata": {},
     "inputWidgets": {},
     "nuid": "63cf5b69-784a-4f4c-958e-6dacacff5fce",
     "showTitle": false,
     "title": ""
    }
   },
   "outputs": [],
   "source": [
    "# Let's add a few more edges to see some triangles\n",
    "\n",
    "new_edges = [\n",
    "  {\"src\": \"c\",\n",
    "  \"dst\": \"a\"\n",
    "  },\n",
    "  {\"src\": \"c\",\n",
    "   \"dst\": \"e\" \n",
    "  }\n",
    "]\n",
    "\n",
    "new_edges_df = spark.createDataFrame(new_edges)\n",
    "\n",
    "all_edges_df = (g.edges\n",
    "               .unionByName(new_edges_df, allowMissingColumns=True))\n",
    "\n",
    "new_g = gf.GraphFrame(g.vertices, all_edges_df)\n",
    "\n",
    "display(new_g.triplets)"
   ]
  },
  {
   "cell_type": "code",
   "execution_count": null,
   "metadata": {
    "application/vnd.databricks.v1+cell": {
     "cellMetadata": {},
     "inputWidgets": {},
     "nuid": "5edd4d76-a119-4084-8a97-38cca8ae27d1",
     "showTitle": false,
     "title": ""
    }
   },
   "outputs": [],
   "source": [
    "new_g_trianglecount = new_g.triangleCount()\n",
    "display(new_g_trianglecount)"
   ]
  },
  {
   "cell_type": "markdown",
   "metadata": {
    "application/vnd.databricks.v1+cell": {
     "cellMetadata": {},
     "inputWidgets": {},
     "nuid": "961a6e4f-75cd-4248-9e99-540bc7b5dd9d",
     "showTitle": false,
     "title": ""
    }
   },
   "source": [
    "### Label propagation"
   ]
  },
  {
   "cell_type": "code",
   "execution_count": null,
   "metadata": {
    "application/vnd.databricks.v1+cell": {
     "cellMetadata": {},
     "inputWidgets": {},
     "nuid": "447c98d9-0835-486b-8ef4-12450888727e",
     "showTitle": false,
     "title": ""
    }
   },
   "outputs": [],
   "source": [
    "g_labelprop = g.labelPropagation(maxIter=5)\n",
    "display(g_labelprop)"
   ]
  },
  {
   "cell_type": "code",
   "execution_count": null,
   "metadata": {
    "application/vnd.databricks.v1+cell": {
     "cellMetadata": {},
     "inputWidgets": {},
     "nuid": "a1568981-dad9-4c1f-8883-0afe1c4c4ba2",
     "showTitle": false,
     "title": ""
    }
   },
   "outputs": [],
   "source": [
    "# This algorithm is computationally efficient, but not always very useful. E.g.:\n",
    "new_g_labelprop = new_g.labelPropagation(maxIter=5)\n",
    "display(new_g_labelprop)"
   ]
  },
  {
   "cell_type": "markdown",
   "metadata": {
    "application/vnd.databricks.v1+cell": {
     "cellMetadata": {},
     "inputWidgets": {},
     "nuid": "f6345e3e-3f19-4077-b651-6b25dd1fd22e",
     "showTitle": false,
     "title": ""
    }
   },
   "source": [
    "### Breadth-first search"
   ]
  },
  {
   "cell_type": "code",
   "execution_count": null,
   "metadata": {
    "application/vnd.databricks.v1+cell": {
     "cellMetadata": {},
     "inputWidgets": {},
     "nuid": "131ad19b-cef1-46d5-880b-937244a49c94",
     "showTitle": false,
     "title": ""
    }
   },
   "outputs": [],
   "source": [
    "g_bfs = g.bfs(\"name = 'Esther'\", \"age < 32\")\n",
    "display(g_bfs)"
   ]
  },
  {
   "cell_type": "code",
   "execution_count": null,
   "metadata": {
    "application/vnd.databricks.v1+cell": {
     "cellMetadata": {},
     "inputWidgets": {},
     "nuid": "7f4c262f-f8e0-4a42-8787-d5a8d79909d9",
     "showTitle": false,
     "title": ""
    }
   },
   "outputs": [],
   "source": [
    "new_g_bfs = new_g.bfs(\"name = 'Esther'\", \"age > 29 and age < 36 and name != 'Esther'\")\n",
    "display(new_g_bfs)"
   ]
  },
  {
   "cell_type": "markdown",
   "metadata": {
    "application/vnd.databricks.v1+cell": {
     "cellMetadata": {},
     "inputWidgets": {},
     "nuid": "f69328fa-8656-48b3-bc75-0b1d3031d0b7",
     "showTitle": false,
     "title": ""
    }
   },
   "source": [
    "### Further reading\n",
    "\n",
    "https://graphframes.github.io/graphframes/docs/_site/user-guide.html  \n",
    "https://docs.databricks.com/spark/latest/graph-analysis/graphframes/user-guide-python.html  \n",
    "https://blog.devgenius.io/graph-modeling-in-pyspark-using-graphframes-part-1-e7cb42099182"
   ]
  },
  {
   "cell_type": "markdown",
   "metadata": {
    "application/vnd.databricks.v1+cell": {
     "cellMetadata": {},
     "inputWidgets": {},
     "nuid": "31928765-484a-4c44-8b4b-9f71d0c89bf0",
     "showTitle": false,
     "title": ""
    }
   },
   "source": [
    "### Task\n",
    "Dataset: Star Wars Social Network  \n",
    "source: https://www.kaggle.com/datasets/ruchi798/star-wars?resource=download&select=starwars-full-interactions-allCharacters-merged.json\n",
    "\n",
    "Todo:\n",
    "* Preprocess the data:\n",
    "  * create a dataframe for vertices\n",
    "  * create a dataframe for edges. Please make the edges undirected \n",
    "    * hint: the data is currently directed, but actually the direction has no meaning for this dataset\n",
    "* Create a GraphFrame using the vertices and undirected edges\n",
    "* Run pagerank on top of the GraphFrame. \n",
    "  * Order by pagerank, descending. Discuss, why do the values and pageranks not correlate across characters?\n",
    "* Using motifs, find characters who never appear together with Luke but appear at least 5 times together with a character that appears at least once with Luke. \n",
    "  * E.g. Luke never appears together in a scene with Padme, but both characters appear on scenes with R2-D2."
   ]
  },
  {
   "cell_type": "code",
   "execution_count": null,
   "metadata": {
    "application/vnd.databricks.v1+cell": {
     "cellMetadata": {},
     "inputWidgets": {},
     "nuid": "6fe855f9-4f1a-4fd7-a49d-a7e6a0a26c91",
     "showTitle": false,
     "title": ""
    }
   },
   "outputs": [],
   "source": [
    "# Your solution:\n"
   ]
  }
 ],
 "metadata": {
  "application/vnd.databricks.v1+notebook": {
   "dashboards": [],
   "language": "python",
   "notebookMetadata": {
    "mostRecentlyExecutedCommandWithImplicitDF": {
     "commandId": 109803845193651,
     "dataframes": [
      "_sqldf"
     ]
    },
    "pythonIndentUnit": 2
   },
   "notebookName": "Practice session - Graphframes",
   "notebookOrigID": 2259387480520179,
   "widgets": {}
  },
  "kernelspec": {
   "display_name": "Python 3 (ipykernel)",
   "language": "python",
   "name": "python3"
  },
  "language_info": {
   "codemirror_mode": {
    "name": "ipython",
    "version": 3
   },
   "file_extension": ".py",
   "mimetype": "text/x-python",
   "name": "python",
   "nbconvert_exporter": "python",
   "pygments_lexer": "ipython3",
   "version": "3.11.7"
  }
 },
 "nbformat": 4,
 "nbformat_minor": 4
}
